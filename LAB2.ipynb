{
 "cells": [
  {
   "cell_type": "markdown",
   "metadata": {},
   "source": [
    "## Lab 2 - Genetic algorithm"
   ]
  },
  {
   "cell_type": "markdown",
   "metadata": {},
   "source": [
    "**Autor: Marcin Zwierzchowski**"
   ]
  },
  {
   "cell_type": "code",
   "execution_count": 535,
   "metadata": {},
   "outputs": [],
   "source": [
    "import matplotlib.pyplot as plt\n",
    "import numpy as np\n",
    "import random\n",
    "from scipy.spatial.distance import cdist\n",
    "import time\n",
    "from tqdm  import tqdm\n",
    "import gc\n",
    "import pandas as pd"
   ]
  },
  {
   "cell_type": "markdown",
   "metadata": {},
   "source": [
    "## 1. Dane zadania i funkcja pomocnicza"
   ]
  },
  {
   "cell_type": "code",
   "execution_count": 442,
   "metadata": {},
   "outputs": [],
   "source": [
    "cities = {\n",
    "    \"A\": [0, 0],\n",
    "    \"B\": [1, 3],\n",
    "    \"C\": [2, 1],\n",
    "    \"D\": [4, 6],\n",
    "    \"E\": [5, 2],\n",
    "    \"F\": [6, 5],\n",
    "    \"G\": [8, 7],\n",
    "    \"H\": [9, 4],\n",
    "    \"I\": [10, 8],\n",
    "    \"J\": [12, 3]\n",
    "}\n",
    "num_to_city = {i+1: city for i, city in enumerate(cities.keys())}\n",
    "# num_to_city"
   ]
  },
  {
   "cell_type": "code",
   "execution_count": 444,
   "metadata": {},
   "outputs": [],
   "source": [
    "coordinates = list(cities.values())\n",
    "distance_matrix = cdist(coordinates, coordinates, metric='euclidean')\n",
    "# distance_matrix\n"
   ]
  },
  {
   "cell_type": "code",
   "execution_count": null,
   "metadata": {},
   "outputs": [],
   "source": [
    "def calculate_runtime(algorithm, runs=10, print_output=False):\n",
    "    measurements = []\n",
    "    results = {}\n",
    "    for _ in tqdm(range(runs)):\n",
    "\n",
    "\n",
    "        gc_old = gc.isenabled()\n",
    "        gc.disable()\n",
    "        start_time = time.process_time()\n",
    "        best_individual, best_score = algorithm()\n",
    "        end_time = time.process_time()\n",
    "        if print_output:\n",
    "            print(f\"Best: {[num_to_city[ele] for ele in best_individual]} -> Score: {best_score:.3f}; Route length: {1/best_score:.3f}\")\n",
    "        if gc_old:\n",
    "            gc.enable()\n",
    "        measurements.append(end_time - start_time)\n",
    "    \n",
    "    results = {\n",
    "        \"Min\": round(np.min(measurements), 2),\n",
    "        \"Avg\": round(np.mean(measurements), 2),\n",
    "        \"Std\": round(np.std(measurements), 2),\n",
    "        \"Max\": round(np.max(measurements), 2)\n",
    "    }\n",
    "\n",
    "    return pd.DataFrame([results])"
   ]
  },
  {
   "cell_type": "markdown",
   "metadata": {},
   "source": [
    "## 2. Implementacja algorytmu genetycznego"
   ]
  },
  {
   "cell_type": "code",
   "execution_count": null,
   "metadata": {},
   "outputs": [],
   "source": [
    "class GeneticAlgorithm:\n",
    "    \"\"\"\n",
    "    Genetic Algorithm for solving the Traveling Salesman Problem (TSP).\n",
    "\n",
    "    Parameters:\n",
    "    - distance_matrix: 2D array representing distances between cities.\n",
    "    - tmax (int): Maximum number of iterations (default: 50000).\n",
    "    - Pm (float): Mutation probability (default: 0.6).\n",
    "    - Pc (float): Crossover probability (default: 0.6).\n",
    "    - pop_size (int): Population size (default: 5).\n",
    "    - num_cities (int): Number of cities (default: 10).\n",
    "    - selection_method (str): Selection method ('roulette' or 'tournament', default: 'roulette').\n",
    "    \"\"\"\n",
    "\n",
    "    def __init__(self, distance_matrix, \n",
    "                 tmax = 1000, \n",
    "                 Pm = 0.1, Pc = 0.8, \n",
    "                 pop_size = 50, \n",
    "                 selection_method = \"roulette\",\n",
    "                 verbose = False):\n",
    "        \n",
    "        self.tmax = tmax\n",
    "        self.population = []\n",
    "        self.Pm = Pm\n",
    "        self.Pc = Pc\n",
    "        self.pop_size = pop_size\n",
    "        self.num_cities = distance_matrix.shape[0]\n",
    "        self.distance_matrix = distance_matrix\n",
    "        self.selection_method = selection_method\n",
    "        self.verbose = verbose\n",
    "        self._validate_parameters()\n",
    "\n",
    "    def _validate_parameters(self):\n",
    "    \n",
    "        if not (0 <= self.Pm <= 1):\n",
    "            raise ValueError(\"Mutation probability (Pm) must be between 0 and 1.\")\n",
    "        if not (0 <= self.Pc <= 1):\n",
    "            raise ValueError(\"Crossover probability (Pc) must be between 0 and 1.\")\n",
    "        if self.pop_size <= 0:\n",
    "            raise ValueError(\"Population size (pop_size) must be greater than 0.\")\n",
    "        if not isinstance(self.distance_matrix, (list, np.ndarray)):\n",
    "            raise TypeError(\"Distance matrix must be a list or numpy array.\")\n",
    "        if self.selection_method not in [\"roulette\", \"tournament\"]:\n",
    "            raise ValueError(\"Selection method must be 'roulette' or 'tournament'.\")  \n",
    "        if self.distance_matrix.shape[0] == 0:\n",
    "            raise ValueError(\"Distance matrix must contain at least one city.\") \n",
    "        if self.distance_matrix.shape[0] != self.distance_matrix.shape[1]:\n",
    "            raise ValueError(\"Distance matrix must be square (same number of rows and columns).\") \n",
    "\n",
    "    def initialize_population(self):\n",
    "\n",
    "        for _ in range(self.pop_size):\n",
    "            individual = random.sample(range(1,self.num_cities+1), self.num_cities)\n",
    "            individual.append(individual[0])  \n",
    "            self.population.append(individual)\n",
    "\n",
    "\n",
    "    def run(self):\n",
    "\n",
    "        t = 0 \n",
    "        fitness_scores = self._evaluate_population(self.population) \n",
    "        best_score = max(fitness_scores)\n",
    "        best_individual = self.population[fitness_scores.index(best_score)].copy()\n",
    "        \n",
    "\n",
    "        while(t < self.tmax):\n",
    "            if self.verbose:\n",
    "                print(f\"------------------Iteration: {t+1}/{self.tmax}-------------------\")\n",
    "                print(f\"Best individual: {best_individual} -> {best_score:.4f}. Route length: {1/best_score:.3f}\")\n",
    "                # for individual in self.population:\n",
    "                #     print(individual)\n",
    "            \n",
    "\n",
    "            \n",
    "            if self.selection_method == \"tournament\":\n",
    "                reproduction_pop = self._tournament_selection(self.population, fitness_scores)\n",
    "            elif self.selection_method == \"roulette\":\n",
    "                reproduction_pop = self._roulette_wheel_selection(self.population, fitness_scores) \n",
    "\n",
    "            crossovered_pop = self._crossover_population(reproduction_pop) \n",
    "            mutants_pop = self._mutation(crossovered_pop)\n",
    "             \n",
    "\n",
    "            fitness_scores = self._evaluate_population(mutants_pop)\n",
    "            score = max(fitness_scores)\n",
    "            individual = mutants_pop[fitness_scores.index(score)]\n",
    "            \n",
    "            if score > best_score:\n",
    "                best_score = score\n",
    "                best_individual = individual\n",
    "            \n",
    "            self.population = mutants_pop\n",
    "            t+=1\n",
    "        return best_individual, float(best_score)\n",
    "    \n",
    "\n",
    "    def _fitness_fun(self,individual):\n",
    "        \n",
    "        total_dist = 0\n",
    "        for n, _ in enumerate(individual[:-1]):\n",
    "            total_dist += self.distance_matrix[individual[n]-1, individual[n+1]-1]\n",
    "        return 1/total_dist\n",
    "    \n",
    "\n",
    "    def _evaluate_population(self, population):\n",
    "\n",
    "        fitness_scores = []\n",
    "        for individual in population:\n",
    "            score = self._fitness_fun(individual)\n",
    "            fitness_scores.append(score)\n",
    "        return fitness_scores\n",
    "\n",
    "\n",
    "    def _roulette_wheel_selection(self, population, fitness_scores):\n",
    "        \n",
    "        reproduction_pop = []\n",
    "        total_fitness = sum(fitness_scores)\n",
    "\n",
    "        for _ in range(self.pop_size): \n",
    "            pick = random.uniform(0, total_fitness)\n",
    "            current = 0\n",
    "\n",
    "            # Selection of an individual based on probability. Individuals with higher fitness values have a greater chance of being selected.\n",
    "            for i, fitness in enumerate(fitness_scores):\n",
    "                current += fitness\n",
    "                if pick <= current: \n",
    "                    # print(f\"Selected individual no. {i}: {population[i]} -> {current - fitness :.1f} < {pick:.1f} < {current:.1f}\")\n",
    "                    reproduction_pop.append(population[i])\n",
    "                    break\n",
    "        return reproduction_pop\n",
    "\n",
    "\n",
    "    def _tournament_selection(self, population, fitness_scores):\n",
    "        \n",
    "        reproduction_pop = []\n",
    "        for _ in range(self.pop_size): \n",
    "            pick1 = random.randint(0, self.pop_size-1)\n",
    "            pick2 = random.randint(0, self.pop_size-1)\n",
    "            \n",
    "            # print(f\" {len(fitness_scores)} Selected individual numbers: {pick1}  {pick2}\")\n",
    "\n",
    "            if fitness_scores[pick1] > fitness_scores[pick2]:\n",
    "                reproduction_pop.append(population[pick1])\n",
    "            else:\n",
    "                reproduction_pop.append(population[pick2])\n",
    "        return reproduction_pop\n",
    "        \n",
    "\n",
    "    def _one_point_crossover(self, parent1, parent2):\n",
    "        \n",
    "        point = random.randint(1, len(parent1) - 2) \n",
    "        # Ensure the crossover point is not the first and not penultimate element or last one, \n",
    "        # because then it would give same parents.\n",
    "\n",
    "        # print(f\"Selected crossover point: {point}\")\n",
    "\n",
    "        child1 = parent1[:point]\n",
    "        for gene in parent2:\n",
    "            if gene not in child1:\n",
    "                child1.append(gene)\n",
    "        child1.append(child1[0])  \n",
    "\n",
    "        child2 = parent2[:point]\n",
    "        for gene in parent1:\n",
    "            if gene not in child2:\n",
    "                child2.append(gene)\n",
    "        child2.append(child2[0])  \n",
    "\n",
    "        return child1, child2\n",
    "    \n",
    "\n",
    "    def _crossover_population(self, population):\n",
    "\n",
    "        new_population = []\n",
    "        random.shuffle(population)\n",
    "\n",
    "        for i in range(0, len(population) - 1, 2):  # Process pairs (0-1, 2-3, ...)\n",
    "            parent1, parent2 = population[i], population[i + 1]\n",
    "            \n",
    "            if random.random() < self.Pc:  \n",
    "                child1, child2 = self._one_point_crossover(parent1, parent2)\n",
    "                new_population.extend([child1, child2])\n",
    "            else:\n",
    "                new_population.extend([parent1.copy(), parent2.copy()]) \n",
    "\n",
    "        # Case where the population size is odd\n",
    "        if len(population) % 2 == 1:\n",
    "            new_population.append(population[-1].copy())   \n",
    "\n",
    "        return new_population\n",
    "\n",
    "\n",
    "    def _mutation(self, population):\n",
    "        mutated_population = []\n",
    "        for individual in population:\n",
    "            if random.random() < self.Pm:\n",
    "                # print(f\"Mutating individual: {individual}\")\n",
    "                mutated_population.append(self._swap_mutation(individual))\n",
    "            else:\n",
    "                mutated_population.append(individual)\n",
    "        return mutated_population\n",
    "    \n",
    "    def _swap_mutation(self, route):\n",
    "        #Random swap of two cities in the route, except for the first and last\n",
    "        mutated_route = route[:]\n",
    "        i, j = random.sample(range(1, len(route) - 1), 2)  \n",
    "        mutated_route[i], mutated_route[j] = mutated_route[j], mutated_route[i]  \n",
    "        assert mutated_route[0] == route[0] and mutated_route[-1] == route[-1]\n",
    "\n",
    "        return mutated_route\n",
    "    "
   ]
  },
  {
   "cell_type": "markdown",
   "metadata": {},
   "source": [
    "## 3. Przykładowe użycie"
   ]
  },
  {
   "cell_type": "markdown",
   "metadata": {},
   "source": [
    "### 3.1 Selekcja ruletkowa"
   ]
  },
  {
   "cell_type": "code",
   "execution_count": 579,
   "metadata": {},
   "outputs": [],
   "source": [
    "runs = 10\n",
    "tmax = 300"
   ]
  },
  {
   "cell_type": "code",
   "execution_count": null,
   "metadata": {},
   "outputs": [],
   "source": [
    "genetic_algorithm = GeneticAlgorithm(distance_matrix, \n",
    "                tmax = tmax, \n",
    "                Pm = 0.1, Pc = 0.8, \n",
    "                pop_size = 500, \n",
    "                selection_method = \"roulette\")\n",
    "genetic_algorithm.initialize_population()"
   ]
  },
  {
   "cell_type": "code",
   "execution_count": 581,
   "metadata": {},
   "outputs": [
    {
     "name": "stderr",
     "output_type": "stream",
     "text": [
      " 10%|█         | 1/10 [00:08<01:18,  8.76s/it]"
     ]
    },
    {
     "name": "stdout",
     "output_type": "stream",
     "text": [
      "Best: ['F', 'G', 'I', 'J', 'H', 'E', 'C', 'A', 'B', 'D', 'F'] -> Score: 0.030; Route length: 33.123\n"
     ]
    },
    {
     "name": "stderr",
     "output_type": "stream",
     "text": [
      " 20%|██        | 2/10 [00:17<01:08,  8.59s/it]"
     ]
    },
    {
     "name": "stdout",
     "output_type": "stream",
     "text": [
      "Best: ['J', 'I', 'G', 'F', 'D', 'B', 'A', 'C', 'E', 'H', 'J'] -> Score: 0.030; Route length: 33.123\n"
     ]
    },
    {
     "name": "stderr",
     "output_type": "stream",
     "text": [
      " 30%|███       | 3/10 [00:25<00:59,  8.56s/it]"
     ]
    },
    {
     "name": "stdout",
     "output_type": "stream",
     "text": [
      "Best: ['F', 'D', 'G', 'I', 'J', 'H', 'E', 'C', 'A', 'B', 'F'] -> Score: 0.028; Route length: 35.561\n"
     ]
    },
    {
     "name": "stderr",
     "output_type": "stream",
     "text": [
      " 40%|████      | 4/10 [00:32<00:47,  7.88s/it]"
     ]
    },
    {
     "name": "stdout",
     "output_type": "stream",
     "text": [
      "Best: ['F', 'H', 'J', 'I', 'G', 'D', 'B', 'C', 'A', 'E', 'F'] -> Score: 0.028; Route length: 35.331\n"
     ]
    },
    {
     "name": "stderr",
     "output_type": "stream",
     "text": [
      " 50%|█████     | 5/10 [00:39<00:37,  7.43s/it]"
     ]
    },
    {
     "name": "stdout",
     "output_type": "stream",
     "text": [
      "Best: ['F', 'D', 'G', 'I', 'J', 'H', 'E', 'C', 'A', 'B', 'F'] -> Score: 0.028; Route length: 35.561\n"
     ]
    },
    {
     "name": "stderr",
     "output_type": "stream",
     "text": [
      " 60%|██████    | 6/10 [00:45<00:27,  6.92s/it]"
     ]
    },
    {
     "name": "stdout",
     "output_type": "stream",
     "text": [
      "Best: ['F', 'D', 'G', 'I', 'J', 'H', 'E', 'C', 'A', 'B', 'F'] -> Score: 0.028; Route length: 35.561\n"
     ]
    },
    {
     "name": "stderr",
     "output_type": "stream",
     "text": [
      " 70%|███████   | 7/10 [00:51<00:20,  6.70s/it]"
     ]
    },
    {
     "name": "stdout",
     "output_type": "stream",
     "text": [
      "Best: ['F', 'D', 'G', 'I', 'J', 'H', 'E', 'C', 'A', 'B', 'F'] -> Score: 0.028; Route length: 35.561\n"
     ]
    },
    {
     "name": "stderr",
     "output_type": "stream",
     "text": [
      " 80%|████████  | 8/10 [00:57<00:13,  6.55s/it]"
     ]
    },
    {
     "name": "stdout",
     "output_type": "stream",
     "text": [
      "Best: ['F', 'H', 'J', 'I', 'G', 'D', 'B', 'C', 'A', 'E', 'F'] -> Score: 0.028; Route length: 35.331\n"
     ]
    },
    {
     "name": "stderr",
     "output_type": "stream",
     "text": [
      " 90%|█████████ | 9/10 [01:03<00:06,  6.34s/it]"
     ]
    },
    {
     "name": "stdout",
     "output_type": "stream",
     "text": [
      "Best: ['F', 'D', 'G', 'I', 'J', 'H', 'E', 'C', 'A', 'B', 'F'] -> Score: 0.028; Route length: 35.561\n"
     ]
    },
    {
     "name": "stderr",
     "output_type": "stream",
     "text": [
      "100%|██████████| 10/10 [01:09<00:00,  6.96s/it]"
     ]
    },
    {
     "name": "stdout",
     "output_type": "stream",
     "text": [
      "Best: ['F', 'D', 'B', 'A', 'C', 'E', 'H', 'J', 'I', 'G', 'F'] -> Score: 0.030; Route length: 33.123\n",
      "Runtime\n",
      "    Min   Avg   Std   Max\n",
      "0  5.88  6.78  0.85  8.05\n"
     ]
    },
    {
     "name": "stderr",
     "output_type": "stream",
     "text": [
      "\n"
     ]
    }
   ],
   "source": [
    "runtime = calculate_runtime(genetic_algorithm.run, runs=runs, print_output=True)\n",
    "print(f\"Runtime\")\n",
    "print(runtime)"
   ]
  },
  {
   "cell_type": "markdown",
   "metadata": {},
   "source": [
    "### 3.2 Selekcja turniejowa"
   ]
  },
  {
   "cell_type": "code",
   "execution_count": null,
   "metadata": {},
   "outputs": [],
   "source": [
    "genetic_algorithm = GeneticAlgorithm(distance_matrix, \n",
    "                tmax = tmax, \n",
    "                Pm = 0.1, Pc = 0.8, \n",
    "                pop_size = 500, \n",
    "                selection_method = \"tournament\")\n",
    "genetic_algorithm.initialize_population()"
   ]
  },
  {
   "cell_type": "code",
   "execution_count": 583,
   "metadata": {},
   "outputs": [
    {
     "name": "stderr",
     "output_type": "stream",
     "text": [
      " 10%|█         | 1/10 [00:01<00:09,  1.09s/it]"
     ]
    },
    {
     "name": "stdout",
     "output_type": "stream",
     "text": [
      "Best: ['B', 'D', 'F', 'G', 'I', 'J', 'H', 'E', 'C', 'A', 'B'] -> Score: 0.030; Route length: 33.123\n"
     ]
    },
    {
     "name": "stderr",
     "output_type": "stream",
     "text": [
      " 20%|██        | 2/10 [00:02<00:08,  1.06s/it]"
     ]
    },
    {
     "name": "stdout",
     "output_type": "stream",
     "text": [
      "Best: ['F', 'G', 'I', 'J', 'H', 'E', 'C', 'A', 'B', 'D', 'F'] -> Score: 0.030; Route length: 33.123\n"
     ]
    },
    {
     "name": "stderr",
     "output_type": "stream",
     "text": [
      " 30%|███       | 3/10 [00:03<00:07,  1.06s/it]"
     ]
    },
    {
     "name": "stdout",
     "output_type": "stream",
     "text": [
      "Best: ['F', 'G', 'I', 'J', 'H', 'E', 'C', 'A', 'B', 'D', 'F'] -> Score: 0.030; Route length: 33.123\n"
     ]
    },
    {
     "name": "stderr",
     "output_type": "stream",
     "text": [
      " 40%|████      | 4/10 [00:04<00:06,  1.15s/it]"
     ]
    },
    {
     "name": "stdout",
     "output_type": "stream",
     "text": [
      "Best: ['F', 'G', 'I', 'J', 'H', 'E', 'C', 'A', 'B', 'D', 'F'] -> Score: 0.030; Route length: 33.123\n"
     ]
    },
    {
     "name": "stderr",
     "output_type": "stream",
     "text": [
      " 50%|█████     | 5/10 [00:05<00:05,  1.15s/it]"
     ]
    },
    {
     "name": "stdout",
     "output_type": "stream",
     "text": [
      "Best: ['F', 'G', 'I', 'J', 'H', 'E', 'C', 'A', 'B', 'D', 'F'] -> Score: 0.030; Route length: 33.123\n"
     ]
    },
    {
     "name": "stderr",
     "output_type": "stream",
     "text": [
      " 60%|██████    | 6/10 [00:06<00:04,  1.13s/it]"
     ]
    },
    {
     "name": "stdout",
     "output_type": "stream",
     "text": [
      "Best: ['F', 'G', 'I', 'J', 'H', 'E', 'C', 'A', 'B', 'D', 'F'] -> Score: 0.030; Route length: 33.123\n"
     ]
    },
    {
     "name": "stderr",
     "output_type": "stream",
     "text": [
      " 70%|███████   | 7/10 [00:07<00:03,  1.12s/it]"
     ]
    },
    {
     "name": "stdout",
     "output_type": "stream",
     "text": [
      "Best: ['F', 'G', 'I', 'J', 'H', 'E', 'C', 'A', 'B', 'D', 'F'] -> Score: 0.030; Route length: 33.123\n"
     ]
    },
    {
     "name": "stderr",
     "output_type": "stream",
     "text": [
      " 80%|████████  | 8/10 [00:08<00:02,  1.12s/it]"
     ]
    },
    {
     "name": "stdout",
     "output_type": "stream",
     "text": [
      "Best: ['F', 'G', 'I', 'J', 'H', 'E', 'C', 'A', 'B', 'D', 'F'] -> Score: 0.030; Route length: 33.123\n"
     ]
    },
    {
     "name": "stderr",
     "output_type": "stream",
     "text": [
      " 90%|█████████ | 9/10 [00:09<00:01,  1.09s/it]"
     ]
    },
    {
     "name": "stdout",
     "output_type": "stream",
     "text": [
      "Best: ['F', 'G', 'I', 'J', 'H', 'E', 'C', 'A', 'B', 'D', 'F'] -> Score: 0.030; Route length: 33.123\n"
     ]
    },
    {
     "name": "stderr",
     "output_type": "stream",
     "text": [
      "100%|██████████| 10/10 [00:11<00:00,  1.11s/it]"
     ]
    },
    {
     "name": "stdout",
     "output_type": "stream",
     "text": [
      "Best: ['F', 'G', 'I', 'J', 'H', 'E', 'C', 'A', 'B', 'D', 'F'] -> Score: 0.030; Route length: 33.123\n",
      "Runtime\n",
      "    Min  Avg   Std   Max\n",
      "0  1.03  1.1  0.07  1.28\n"
     ]
    },
    {
     "name": "stderr",
     "output_type": "stream",
     "text": [
      "\n"
     ]
    }
   ],
   "source": [
    "runtime = calculate_runtime(genetic_algorithm.run, runs=runs, print_output=True)\n",
    "print(f\"Runtime\")\n",
    "print(runtime)"
   ]
  },
  {
   "cell_type": "markdown",
   "metadata": {},
   "source": [
    "### 3.2 Modyfikacja Pm"
   ]
  },
  {
   "cell_type": "markdown",
   "metadata": {},
   "source": [
    "#### 3.2.1 Selekcja ruletkowa"
   ]
  },
  {
   "cell_type": "code",
   "execution_count": 584,
   "metadata": {},
   "outputs": [
    {
     "name": "stderr",
     "output_type": "stream",
     "text": [
      " 10%|█         | 1/10 [00:07<01:08,  7.65s/it]"
     ]
    },
    {
     "name": "stdout",
     "output_type": "stream",
     "text": [
      "Best: ['A', 'C', 'E', 'F', 'H', 'J', 'I', 'G', 'D', 'B', 'A'] -> Score: 0.029; Route length: 34.034\n"
     ]
    },
    {
     "name": "stderr",
     "output_type": "stream",
     "text": [
      " 20%|██        | 2/10 [00:14<00:56,  7.09s/it]"
     ]
    },
    {
     "name": "stdout",
     "output_type": "stream",
     "text": [
      "Best: ['G', 'I', 'J', 'H', 'E', 'C', 'A', 'B', 'D', 'F', 'G'] -> Score: 0.030; Route length: 33.123\n"
     ]
    },
    {
     "name": "stderr",
     "output_type": "stream",
     "text": [
      " 30%|███       | 3/10 [00:21<00:48,  6.97s/it]"
     ]
    },
    {
     "name": "stdout",
     "output_type": "stream",
     "text": [
      "Best: ['G', 'I', 'J', 'H', 'E', 'C', 'A', 'B', 'D', 'F', 'G'] -> Score: 0.030; Route length: 33.123\n"
     ]
    },
    {
     "name": "stderr",
     "output_type": "stream",
     "text": [
      " 40%|████      | 4/10 [00:28<00:41,  6.92s/it]"
     ]
    },
    {
     "name": "stdout",
     "output_type": "stream",
     "text": [
      "Best: ['G', 'I', 'J', 'H', 'E', 'C', 'A', 'B', 'D', 'F', 'G'] -> Score: 0.030; Route length: 33.123\n"
     ]
    },
    {
     "name": "stderr",
     "output_type": "stream",
     "text": [
      " 50%|█████     | 5/10 [00:34<00:34,  6.83s/it]"
     ]
    },
    {
     "name": "stdout",
     "output_type": "stream",
     "text": [
      "Best: ['G', 'I', 'J', 'H', 'E', 'C', 'A', 'B', 'D', 'F', 'G'] -> Score: 0.030; Route length: 33.123\n"
     ]
    },
    {
     "name": "stderr",
     "output_type": "stream",
     "text": [
      " 60%|██████    | 6/10 [00:42<00:28,  7.08s/it]"
     ]
    },
    {
     "name": "stdout",
     "output_type": "stream",
     "text": [
      "Best: ['I', 'G', 'F', 'D', 'B', 'A', 'C', 'E', 'H', 'J', 'I'] -> Score: 0.030; Route length: 33.123\n"
     ]
    },
    {
     "name": "stderr",
     "output_type": "stream",
     "text": [
      " 70%|███████   | 7/10 [00:48<00:20,  6.95s/it]"
     ]
    },
    {
     "name": "stdout",
     "output_type": "stream",
     "text": [
      "Best: ['G', 'I', 'J', 'H', 'E', 'C', 'A', 'B', 'D', 'F', 'G'] -> Score: 0.030; Route length: 33.123\n"
     ]
    },
    {
     "name": "stderr",
     "output_type": "stream",
     "text": [
      " 80%|████████  | 8/10 [00:56<00:14,  7.07s/it]"
     ]
    },
    {
     "name": "stdout",
     "output_type": "stream",
     "text": [
      "Best: ['G', 'I', 'J', 'H', 'E', 'C', 'A', 'B', 'D', 'F', 'G'] -> Score: 0.030; Route length: 33.123\n"
     ]
    },
    {
     "name": "stderr",
     "output_type": "stream",
     "text": [
      " 90%|█████████ | 9/10 [01:03<00:07,  7.25s/it]"
     ]
    },
    {
     "name": "stdout",
     "output_type": "stream",
     "text": [
      "Best: ['G', 'I', 'J', 'H', 'E', 'C', 'A', 'B', 'D', 'F', 'G'] -> Score: 0.030; Route length: 33.123\n"
     ]
    },
    {
     "name": "stderr",
     "output_type": "stream",
     "text": [
      "100%|██████████| 10/10 [01:10<00:00,  7.05s/it]"
     ]
    },
    {
     "name": "stdout",
     "output_type": "stream",
     "text": [
      "Best: ['G', 'I', 'J', 'H', 'E', 'C', 'A', 'B', 'D', 'F', 'G'] -> Score: 0.030; Route length: 33.123\n",
      "Runtime\n",
      "    Min  Avg   Std   Max\n",
      "0  6.64  7.0  0.37  7.55\n"
     ]
    },
    {
     "name": "stderr",
     "output_type": "stream",
     "text": [
      "\n"
     ]
    }
   ],
   "source": [
    "genetic_algorithm = GeneticAlgorithm(distance_matrix, \n",
    "                tmax = tmax, \n",
    "                Pm = 0.6, Pc = 0.8, \n",
    "                pop_size = 500, \n",
    "                selection_method = \"roulette\")\n",
    "genetic_algorithm.initialize_population()\n",
    "\n",
    "runtime = calculate_runtime(genetic_algorithm.run, runs=runs, print_output=True)\n",
    "print(f\"Runtime\")\n",
    "print(runtime)"
   ]
  },
  {
   "cell_type": "markdown",
   "metadata": {},
   "source": [
    "#### 3.2.2 Selekcja turniejowa"
   ]
  },
  {
   "cell_type": "code",
   "execution_count": 585,
   "metadata": {},
   "outputs": [
    {
     "name": "stderr",
     "output_type": "stream",
     "text": [
      " 10%|█         | 1/10 [00:01<00:11,  1.27s/it]"
     ]
    },
    {
     "name": "stdout",
     "output_type": "stream",
     "text": [
      "Best: ['E', 'C', 'A', 'B', 'D', 'F', 'G', 'I', 'J', 'H', 'E'] -> Score: 0.030; Route length: 33.123\n"
     ]
    },
    {
     "name": "stderr",
     "output_type": "stream",
     "text": [
      " 20%|██        | 2/10 [00:02<00:10,  1.29s/it]"
     ]
    },
    {
     "name": "stdout",
     "output_type": "stream",
     "text": [
      "Best: ['E', 'H', 'J', 'I', 'G', 'F', 'D', 'B', 'A', 'C', 'E'] -> Score: 0.030; Route length: 33.123\n"
     ]
    },
    {
     "name": "stderr",
     "output_type": "stream",
     "text": [
      " 30%|███       | 3/10 [00:04<00:09,  1.38s/it]"
     ]
    },
    {
     "name": "stdout",
     "output_type": "stream",
     "text": [
      "Best: ['E', 'C', 'A', 'B', 'D', 'F', 'G', 'I', 'J', 'H', 'E'] -> Score: 0.030; Route length: 33.123\n"
     ]
    },
    {
     "name": "stderr",
     "output_type": "stream",
     "text": [
      " 40%|████      | 4/10 [00:05<00:08,  1.36s/it]"
     ]
    },
    {
     "name": "stdout",
     "output_type": "stream",
     "text": [
      "Best: ['E', 'C', 'A', 'B', 'D', 'F', 'G', 'I', 'J', 'H', 'E'] -> Score: 0.030; Route length: 33.123\n"
     ]
    },
    {
     "name": "stderr",
     "output_type": "stream",
     "text": [
      " 50%|█████     | 5/10 [00:06<00:06,  1.37s/it]"
     ]
    },
    {
     "name": "stdout",
     "output_type": "stream",
     "text": [
      "Best: ['E', 'C', 'A', 'B', 'D', 'F', 'G', 'I', 'J', 'H', 'E'] -> Score: 0.030; Route length: 33.123\n"
     ]
    },
    {
     "name": "stderr",
     "output_type": "stream",
     "text": [
      " 60%|██████    | 6/10 [00:08<00:05,  1.42s/it]"
     ]
    },
    {
     "name": "stdout",
     "output_type": "stream",
     "text": [
      "Best: ['E', 'C', 'A', 'B', 'D', 'F', 'G', 'I', 'J', 'H', 'E'] -> Score: 0.030; Route length: 33.123\n"
     ]
    },
    {
     "name": "stderr",
     "output_type": "stream",
     "text": [
      " 70%|███████   | 7/10 [00:10<00:04,  1.53s/it]"
     ]
    },
    {
     "name": "stdout",
     "output_type": "stream",
     "text": [
      "Best: ['E', 'C', 'A', 'B', 'D', 'F', 'G', 'I', 'J', 'H', 'E'] -> Score: 0.030; Route length: 33.123\n"
     ]
    },
    {
     "name": "stderr",
     "output_type": "stream",
     "text": [
      " 80%|████████  | 8/10 [00:11<00:02,  1.50s/it]"
     ]
    },
    {
     "name": "stdout",
     "output_type": "stream",
     "text": [
      "Best: ['E', 'C', 'A', 'B', 'D', 'F', 'G', 'I', 'J', 'H', 'E'] -> Score: 0.030; Route length: 33.123\n"
     ]
    },
    {
     "name": "stderr",
     "output_type": "stream",
     "text": [
      " 90%|█████████ | 9/10 [00:13<00:01,  1.52s/it]"
     ]
    },
    {
     "name": "stdout",
     "output_type": "stream",
     "text": [
      "Best: ['E', 'C', 'A', 'B', 'D', 'F', 'G', 'I', 'J', 'H', 'E'] -> Score: 0.030; Route length: 33.123\n"
     ]
    },
    {
     "name": "stderr",
     "output_type": "stream",
     "text": [
      "100%|██████████| 10/10 [00:14<00:00,  1.43s/it]"
     ]
    },
    {
     "name": "stdout",
     "output_type": "stream",
     "text": [
      "Best: ['E', 'C', 'A', 'B', 'D', 'F', 'G', 'I', 'J', 'H', 'E'] -> Score: 0.030; Route length: 33.123\n",
      "Runtime\n",
      "    Min   Avg   Std   Max\n",
      "0  1.28  1.43  0.13  1.67\n"
     ]
    },
    {
     "name": "stderr",
     "output_type": "stream",
     "text": [
      "\n"
     ]
    }
   ],
   "source": [
    "genetic_algorithm = GeneticAlgorithm(distance_matrix, \n",
    "                tmax = tmax, \n",
    "                Pm = 0.6, Pc = 0.8, \n",
    "                pop_size = 500, \n",
    "                selection_method = \"tournament\")\n",
    "genetic_algorithm.initialize_population()\n",
    "\n",
    "runtime = calculate_runtime(genetic_algorithm.run, runs=runs, print_output=True)\n",
    "print(f\"Runtime\")\n",
    "print(runtime)"
   ]
  },
  {
   "cell_type": "markdown",
   "metadata": {},
   "source": [
    "## 4. Results"
   ]
  },
  {
   "cell_type": "markdown",
   "metadata": {},
   "source": [
    "| Selection| Pm       | Min      | Avg      | Std      | Max      | Exact solution |\n",
    "|----------|----------|----------|----------|----------|----------|----------------|\n",
    "| Ruletkowa| 0.1      | 4s       | 4.82s    | 0.58s    | 6.3s     |       3/10     |\n",
    "|Turniejowa| 0.1      | 1.03s    | 1.1s     | 0.07s    | 1.28s    |       10/10    |\n",
    "| Ruletkowa| 0.6      | 6.64s    | 7s       | 0.37s    | 7.55s    |       9/10     |\n",
    "|Turniejowa| 0.6      | 1.28s    | 1.43s    | 0.13s    | 1.67s    |      10/10     |"
   ]
  },
  {
   "cell_type": "markdown",
   "metadata": {},
   "source": [
    "Algorytm genetyczny zaimplementowany wraz z selekcja turniejowa jest szybsza oraz daje lepsze wyniki. W pierwszym przypadku \n",
    "algorytm wraz z selekcją ruletkową dał dokładne rozwiązanie 3 z 10 razy, gdzie algorytm wraz z selekcją turniejową (inne parametry takie same) dał 10/10 dokładnych rozwiązań i był przy tym szybszy średnio o 3s. Podobnie selekcja turniejowa ma przewagę dla większego prawdopodobieństwa mutacji = 0.6. Tu była szybsza o ponad 5s i dała lepsze wyniki, choć już nie tak znacząco. \n",
    "Zwiększanie prawdopodobieństwa mutacji zwiększa czas działania algorytmu, ale i poprawia szanse na osiągnięcia minimum globalnego. Widać to na przykładzie selekcji ruletkowej, która przy Pm = 0.1 znajdywała 3/10 minimum globalne, a dla Pm=0.6 już 10/10. Dzieje się to kosztem czasu działania algorytmu. \n"
   ]
  }
 ],
 "metadata": {
  "kernelspec": {
   "display_name": ".venv",
   "language": "python",
   "name": "python3"
  },
  "language_info": {
   "codemirror_mode": {
    "name": "ipython",
    "version": 3
   },
   "file_extension": ".py",
   "mimetype": "text/x-python",
   "name": "python",
   "nbconvert_exporter": "python",
   "pygments_lexer": "ipython3",
   "version": "3.12.4"
  }
 },
 "nbformat": 4,
 "nbformat_minor": 2
}
